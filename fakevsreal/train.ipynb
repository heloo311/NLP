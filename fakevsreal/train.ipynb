{
 "cells": [
  {
   "cell_type": "code",
   "execution_count": null,
   "metadata": {},
   "outputs": [],
   "source": [
    "import numpy as np\n",
    "import pandas as pd\n",
    "\n",
    "import torch\n",
    "import torch.nn as nn\n",
    "import torch.optim as optim\n",
    "from torch.utils.data import DataLoader, Dataset, TensorDataset\n",
    "\n",
    "\n",
    "\n",
    "import matplotlib.pyplot as plt\n",
    "from sklearn.model_selection import train_test_split\n",
    "from keras.preprocessing.text import Tokenizer\n",
    "from tensorflow.keras.preprocessing.sequence import pad_sequences\n"
   ]
  },
  {
   "cell_type": "code",
   "execution_count": 2,
   "metadata": {},
   "outputs": [],
   "source": [
    "nlp = spacy.load(\"en_core_web_md\") "
   ]
  },
  {
   "cell_type": "code",
   "execution_count": 2,
   "metadata": {
    "id": "TFRxLFre-Dcc"
   },
   "outputs": [],
   "source": [
    "# nlp = spacy.load(\"en_core_web_md\")\n",
    "\n",
    "df_true = pd.read_csv(r\"C:\\Users\\Acer\\Jupyter sample code python\\fakevsreal\\True.csv\")\n",
    "df_true[\"Label\"] = 1\n",
    "df_fake =  pd.read_csv(r\"C:\\Users\\Acer\\Jupyter sample code python\\fakevsreal\\Fake.csv\")\n",
    "df_fake[\"Label\"] = 0\n",
    "df_all = pd.concat([df_true, df_fake], axis=0)\n",
    "\n",
    "df_all = df_all.sample(frac=1).reset_index(drop=True)\n",
    "df_all\n",
    "\n",
    "# X = df_all.iloc[:10000][\"title\"] + \" \" + df_all.iloc[1000][\"text\"]\n",
    "X = df_all[\"title\"] + \" \" + df_all[\"text\"]\n",
    "# X = df_all[\"title\"] + \" \" + df_all[\"text\"]\n",
    "# y = df_all.iloc.Label\n",
    "y = df_all.Label"
   ]
  },
  {
   "cell_type": "code",
   "execution_count": 3,
   "metadata": {},
   "outputs": [
    {
     "data": {
      "text/plain": [
       "0        WHEN HUMA MET HILLARY: “Oh my God, she’s so be...\n",
       "1         Did Hillary Clinton Seriously Criticize Berni...\n",
       "2        Hariri indicates possibility of revoking his r...\n",
       "3        COMEDY GOLD! WATCH HILLARY Give Unbelievable R...\n",
       "4        Trump adds Washington lawyer John Dowd to his ...\n",
       "                               ...                        \n",
       "44893    Democrats ask judge to sanction Republicans ov...\n",
       "44894     White House Staffer On Kushner FBI Investigat...\n",
       "44895    U.S. hopes for 'good deliverables' during Trum...\n",
       "44896    Dyer: ‘LA Times ‘Fake News’ Article is an Atta...\n",
       "44897    Illinois lawmaker's daughter charged in politi...\n",
       "Length: 44898, dtype: object"
      ]
     },
     "execution_count": 3,
     "metadata": {},
     "output_type": "execute_result"
    }
   ],
   "source": [
    "X"
   ]
  },
  {
   "cell_type": "code",
   "execution_count": 4,
   "metadata": {},
   "outputs": [
    {
     "data": {
      "text/plain": [
       "0        0\n",
       "1        0\n",
       "2        1\n",
       "3        0\n",
       "4        1\n",
       "        ..\n",
       "44893    1\n",
       "44894    0\n",
       "44895    1\n",
       "44896    0\n",
       "44897    1\n",
       "Name: Label, Length: 44898, dtype: int64"
      ]
     },
     "execution_count": 4,
     "metadata": {},
     "output_type": "execute_result"
    }
   ],
   "source": [
    "y"
   ]
  },
  {
   "cell_type": "code",
   "execution_count": 4,
   "metadata": {},
   "outputs": [
    {
     "data": {
      "text/plain": [
       "44898"
      ]
     },
     "execution_count": 4,
     "metadata": {},
     "output_type": "execute_result"
    }
   ],
   "source": [
    "len(X)"
   ]
  },
  {
   "cell_type": "code",
   "execution_count": 5,
   "metadata": {},
   "outputs": [
    {
     "data": {
      "text/plain": [
       "44898"
      ]
     },
     "execution_count": 5,
     "metadata": {},
     "output_type": "execute_result"
    }
   ],
   "source": [
    "len(y)"
   ]
  },
  {
   "cell_type": "code",
   "execution_count": 29,
   "metadata": {},
   "outputs": [
    {
     "data": {
      "text/html": [
       "<div>\n",
       "<style scoped>\n",
       "    .dataframe tbody tr th:only-of-type {\n",
       "        vertical-align: middle;\n",
       "    }\n",
       "\n",
       "    .dataframe tbody tr th {\n",
       "        vertical-align: top;\n",
       "    }\n",
       "\n",
       "    .dataframe thead th {\n",
       "        text-align: right;\n",
       "    }\n",
       "</style>\n",
       "<table border=\"1\" class=\"dataframe\">\n",
       "  <thead>\n",
       "    <tr style=\"text-align: right;\">\n",
       "      <th></th>\n",
       "      <th>title</th>\n",
       "      <th>text</th>\n",
       "      <th>subject</th>\n",
       "      <th>date</th>\n",
       "      <th>Label</th>\n",
       "    </tr>\n",
       "  </thead>\n",
       "  <tbody>\n",
       "    <tr>\n",
       "      <th>0</th>\n",
       "      <td>As U.S. budget fight looms, Republicans flip t...</td>\n",
       "      <td>WASHINGTON (Reuters) - The head of a conservat...</td>\n",
       "      <td>politicsNews</td>\n",
       "      <td>December 31, 2017</td>\n",
       "      <td>1</td>\n",
       "    </tr>\n",
       "    <tr>\n",
       "      <th>1</th>\n",
       "      <td>U.S. military to accept transgender recruits o...</td>\n",
       "      <td>WASHINGTON (Reuters) - Transgender people will...</td>\n",
       "      <td>politicsNews</td>\n",
       "      <td>December 29, 2017</td>\n",
       "      <td>1</td>\n",
       "    </tr>\n",
       "    <tr>\n",
       "      <th>2</th>\n",
       "      <td>Senior U.S. Republican senator: 'Let Mr. Muell...</td>\n",
       "      <td>WASHINGTON (Reuters) - The special counsel inv...</td>\n",
       "      <td>politicsNews</td>\n",
       "      <td>December 31, 2017</td>\n",
       "      <td>1</td>\n",
       "    </tr>\n",
       "    <tr>\n",
       "      <th>3</th>\n",
       "      <td>FBI Russia probe helped by Australian diplomat...</td>\n",
       "      <td>WASHINGTON (Reuters) - Trump campaign adviser ...</td>\n",
       "      <td>politicsNews</td>\n",
       "      <td>December 30, 2017</td>\n",
       "      <td>1</td>\n",
       "    </tr>\n",
       "    <tr>\n",
       "      <th>4</th>\n",
       "      <td>Trump wants Postal Service to charge 'much mor...</td>\n",
       "      <td>SEATTLE/WASHINGTON (Reuters) - President Donal...</td>\n",
       "      <td>politicsNews</td>\n",
       "      <td>December 29, 2017</td>\n",
       "      <td>1</td>\n",
       "    </tr>\n",
       "    <tr>\n",
       "      <th>...</th>\n",
       "      <td>...</td>\n",
       "      <td>...</td>\n",
       "      <td>...</td>\n",
       "      <td>...</td>\n",
       "      <td>...</td>\n",
       "    </tr>\n",
       "    <tr>\n",
       "      <th>21412</th>\n",
       "      <td>'Fully committed' NATO backs new U.S. approach...</td>\n",
       "      <td>BRUSSELS (Reuters) - NATO allies on Tuesday we...</td>\n",
       "      <td>worldnews</td>\n",
       "      <td>August 22, 2017</td>\n",
       "      <td>1</td>\n",
       "    </tr>\n",
       "    <tr>\n",
       "      <th>21413</th>\n",
       "      <td>LexisNexis withdrew two products from Chinese ...</td>\n",
       "      <td>LONDON (Reuters) - LexisNexis, a provider of l...</td>\n",
       "      <td>worldnews</td>\n",
       "      <td>August 22, 2017</td>\n",
       "      <td>1</td>\n",
       "    </tr>\n",
       "    <tr>\n",
       "      <th>21414</th>\n",
       "      <td>Minsk cultural hub becomes haven from authorities</td>\n",
       "      <td>MINSK (Reuters) - In the shadow of disused Sov...</td>\n",
       "      <td>worldnews</td>\n",
       "      <td>August 22, 2017</td>\n",
       "      <td>1</td>\n",
       "    </tr>\n",
       "    <tr>\n",
       "      <th>21415</th>\n",
       "      <td>Vatican upbeat on possibility of Pope Francis ...</td>\n",
       "      <td>MOSCOW (Reuters) - Vatican Secretary of State ...</td>\n",
       "      <td>worldnews</td>\n",
       "      <td>August 22, 2017</td>\n",
       "      <td>1</td>\n",
       "    </tr>\n",
       "    <tr>\n",
       "      <th>21416</th>\n",
       "      <td>Indonesia to buy $1.14 billion worth of Russia...</td>\n",
       "      <td>JAKARTA (Reuters) - Indonesia will buy 11 Sukh...</td>\n",
       "      <td>worldnews</td>\n",
       "      <td>August 22, 2017</td>\n",
       "      <td>1</td>\n",
       "    </tr>\n",
       "  </tbody>\n",
       "</table>\n",
       "<p>21417 rows × 5 columns</p>\n",
       "</div>"
      ],
      "text/plain": [
       "                                                   title  \\\n",
       "0      As U.S. budget fight looms, Republicans flip t...   \n",
       "1      U.S. military to accept transgender recruits o...   \n",
       "2      Senior U.S. Republican senator: 'Let Mr. Muell...   \n",
       "3      FBI Russia probe helped by Australian diplomat...   \n",
       "4      Trump wants Postal Service to charge 'much mor...   \n",
       "...                                                  ...   \n",
       "21412  'Fully committed' NATO backs new U.S. approach...   \n",
       "21413  LexisNexis withdrew two products from Chinese ...   \n",
       "21414  Minsk cultural hub becomes haven from authorities   \n",
       "21415  Vatican upbeat on possibility of Pope Francis ...   \n",
       "21416  Indonesia to buy $1.14 billion worth of Russia...   \n",
       "\n",
       "                                                    text       subject  \\\n",
       "0      WASHINGTON (Reuters) - The head of a conservat...  politicsNews   \n",
       "1      WASHINGTON (Reuters) - Transgender people will...  politicsNews   \n",
       "2      WASHINGTON (Reuters) - The special counsel inv...  politicsNews   \n",
       "3      WASHINGTON (Reuters) - Trump campaign adviser ...  politicsNews   \n",
       "4      SEATTLE/WASHINGTON (Reuters) - President Donal...  politicsNews   \n",
       "...                                                  ...           ...   \n",
       "21412  BRUSSELS (Reuters) - NATO allies on Tuesday we...     worldnews   \n",
       "21413  LONDON (Reuters) - LexisNexis, a provider of l...     worldnews   \n",
       "21414  MINSK (Reuters) - In the shadow of disused Sov...     worldnews   \n",
       "21415  MOSCOW (Reuters) - Vatican Secretary of State ...     worldnews   \n",
       "21416  JAKARTA (Reuters) - Indonesia will buy 11 Sukh...     worldnews   \n",
       "\n",
       "                     date  Label  \n",
       "0      December 31, 2017       1  \n",
       "1      December 29, 2017       1  \n",
       "2      December 31, 2017       1  \n",
       "3      December 30, 2017       1  \n",
       "4      December 29, 2017       1  \n",
       "...                   ...    ...  \n",
       "21412    August 22, 2017       1  \n",
       "21413    August 22, 2017       1  \n",
       "21414    August 22, 2017       1  \n",
       "21415    August 22, 2017       1  \n",
       "21416    August 22, 2017       1  \n",
       "\n",
       "[21417 rows x 5 columns]"
      ]
     },
     "execution_count": 29,
     "metadata": {},
     "output_type": "execute_result"
    }
   ],
   "source": [
    "df_true"
   ]
  },
  {
   "cell_type": "code",
   "execution_count": 33,
   "metadata": {},
   "outputs": [
    {
     "data": {
      "text/plain": [
       "'Cyclone batters southwestern India coast killing 14, many missing MUMBAI (Reuters) - Cyclone Ockhi barrelled into the Lakshwadeep islands in southwestern India on Saturday after drenching the neighboring states of Kerala and Tamil Nadu, claiming so far around 14 lives with many fishermen still feared trapped at sea.  Authorities including the National Disaster Management Authority (NDMA), India s Coast Guard and Navy have rescued about 223 fishermen and evacuated thousands of people from cyclone hit areas, officials said, as they continued their operations on Saturday. Prime Minister Narendra Modi has spoken to the chief minister of Tamil Nadu, assuring him of support operations including necessary funds, according to local media. Ockhi is expected to travel north towards Mumbai and Gujarat in the next 48 hours, according to Indian Meteorological Department (IMD) Director S. Sudevan in Trivandrum, though it is likely to lose intensity.  The intensity of the wind may come down and the cyclone could change into depression,  Sudevan said adding fishermen have been warned not go to the sea for the next few days as waves are likely to be 3-5 meters (12-15 feet) high. '"
      ]
     },
     "execution_count": 33,
     "metadata": {},
     "output_type": "execute_result"
    }
   ],
   "source": [
    "X[0]"
   ]
  },
  {
   "cell_type": "code",
   "execution_count": 4,
   "metadata": {
    "colab": {
     "base_uri": "https://localhost:8080/",
     "height": 451
    },
    "id": "hyiYGFGjqWl5",
    "outputId": "e8a39d63-a658-4220-837f-0896a031c6f9"
   },
   "outputs": [
    {
     "data": {
      "image/png": "[encoded data removed]",
      "text/plain": [
       "<Figure size 640x480 with 1 Axes>"
      ]
     },
     "metadata": {},
     "output_type": "display_data"
    }
   ],
   "source": [
    "import matplotlib.pyplot as plt\n",
    "tokenizer = Tokenizer()\n",
    "tokenizer.fit_on_texts(X)\n",
    "\n",
    "sequences = tokenizer.texts_to_sequences(X)\n",
    "sequence_lengths = [len(seq) for seq in sequences]\n",
    "\n",
    "\n",
    "plt.hist(sequence_lengths, bins='auto')\n",
    "plt.xlabel('Sequence Length')\n",
    "plt.ylabel('Frequency')\n",
    "plt.show()"
   ]
  },
  {
   "cell_type": "code",
   "execution_count": 6,
   "metadata": {
    "id": "wSpfFOvCjJUU"
   },
   "outputs": [],
   "source": [
    "\n",
    "\n",
    "\n",
    "tokenizer = Tokenizer()\n",
    "tokenizer.fit_on_texts(X)\n",
    "word_index = tokenizer.word_index\n",
    "\n",
    "\n",
    "vocab_size = len(word_index) + 1\n",
    "vector_dim = nlp.vocab.vectors_length\n",
    "\n",
    "embedding_matrix = np.zeros((vocab_size, vector_dim))\n",
    "\n",
    "for word, i in word_index.items():\n",
    "    token = nlp.vocab[word]\n",
    "    embedding_matrix[i] = token.vector\n",
    "\n",
    "\n",
    "embedding_layer = nn.Embedding.from_pretrained(torch.tensor(embedding_matrix, dtype=torch.float), freeze=True)\n",
    "\n",
    "\n",
    "X_sequences = tokenizer.texts_to_sequences(X)\n",
    "\n",
    "\n",
    "max_len = 500\n",
    "X_padded = pad_sequences(X_sequences, maxlen=max_len, padding='post')\n",
    "X_train, X_val, y_train, y_val = train_test_split(X_padded, np.array(y), test_size=0.3)\n"
   ]
  },
  {
   "cell_type": "code",
   "execution_count": 16,
   "metadata": {
    "colab": {
     "base_uri": "https://localhost:8080/"
    },
    "id": "UlAFm-jb6KDB",
    "outputId": "add4ba24-9d5f-4c47-9c2b-9354fcd89993"
   },
   "outputs": [
    {
     "data": {
      "text/plain": [
       "300"
      ]
     },
     "execution_count": 16,
     "metadata": {},
     "output_type": "execute_result"
    }
   ],
   "source": [
    "len(embedding_matrix[0])"
   ]
  },
  {
   "cell_type": "code",
   "execution_count": 15,
   "metadata": {
    "colab": {
     "base_uri": "https://localhost:8080/"
    },
    "id": "6Olw79SDpfA7",
    "outputId": "c528c8fc-3955-47ca-902b-3dc46576aa5f"
   },
   "outputs": [
    {
     "data": {
      "text/plain": [
       "array([  894,   903,  4359,     3, 93313,    57,   141,  2580,   656,\n",
       "         107,    69,    33,     8,    79,   741,   149,   256,   894,\n",
       "         903,     9,   214,  1932,    66,    37,    22, 15191, 23492,\n",
       "          57,     1,   259, 11881,   141,    11,   545,   363,  1694,\n",
       "         983,     5,    11,  2447,     6,     1,   890,   395,    33,\n",
       "           8,   149,    96,  2053,    15,    11,   141,     5,    31,\n",
       "          28,  6011,     6,    75,   611,    35,    77,  7057,    42,\n",
       "         202,   784,     5,     1,    87,    76,    74,    39,  1242,\n",
       "          66,    28,   886,  2131,    46,     1,  2635,   431,     5,\n",
       "          70,   167,   598,  3525,    13,     6,     4,   185, 10497,\n",
       "         544,   270,    18,     1,   259,    11,  1569,     1,   705,\n",
       "           3,  2326,   158,   103,   656,    14,   891,  3638,    50,\n",
       "          12,    89,   393,     7,  1102, 21154, 93314,     2,   172,\n",
       "         141,  2580,   209,     2,   240,    78,     0,     0,     0,\n",
       "           0,     0,     0,     0,     0,     0,     0,     0,     0,\n",
       "           0,     0,     0,     0,     0,     0,     0,     0,     0,\n",
       "           0,     0,     0,     0,     0,     0,     0,     0,     0,\n",
       "           0,     0,     0,     0,     0,     0,     0,     0,     0,\n",
       "           0,     0,     0,     0,     0,     0,     0,     0,     0,\n",
       "           0,     0,     0,     0,     0,     0,     0,     0,     0,\n",
       "           0,     0,     0,     0,     0,     0,     0,     0,     0,\n",
       "           0,     0,     0,     0,     0,     0,     0,     0,     0,\n",
       "           0,     0,     0,     0,     0,     0,     0,     0,     0,\n",
       "           0,     0,     0,     0,     0,     0,     0,     0,     0,\n",
       "           0,     0,     0,     0,     0,     0,     0,     0,     0,\n",
       "           0,     0,     0,     0,     0,     0,     0,     0,     0,\n",
       "           0,     0,     0,     0,     0,     0,     0,     0,     0,\n",
       "           0,     0,     0,     0,     0,     0,     0,     0,     0,\n",
       "           0,     0,     0,     0,     0,     0,     0,     0,     0,\n",
       "           0,     0,     0,     0,     0,     0,     0,     0,     0,\n",
       "           0,     0,     0,     0,     0,     0,     0,     0,     0,\n",
       "           0,     0,     0,     0,     0,     0,     0,     0,     0,\n",
       "           0,     0,     0,     0,     0,     0,     0,     0,     0,\n",
       "           0,     0,     0,     0,     0,     0,     0,     0,     0,\n",
       "           0,     0,     0,     0,     0,     0,     0,     0,     0,\n",
       "           0,     0,     0,     0,     0,     0,     0,     0,     0,\n",
       "           0,     0,     0,     0,     0,     0,     0,     0,     0,\n",
       "           0,     0,     0,     0,     0,     0,     0,     0,     0,\n",
       "           0,     0,     0,     0,     0,     0,     0,     0,     0,\n",
       "           0,     0,     0,     0,     0,     0,     0,     0,     0,\n",
       "           0,     0,     0,     0,     0,     0,     0,     0,     0,\n",
       "           0,     0,     0,     0,     0,     0,     0,     0,     0,\n",
       "           0,     0,     0,     0,     0,     0,     0,     0,     0,\n",
       "           0,     0,     0,     0,     0,     0,     0,     0,     0,\n",
       "           0,     0,     0,     0,     0,     0,     0,     0,     0,\n",
       "           0,     0,     0,     0,     0,     0,     0,     0,     0,\n",
       "           0,     0,     0,     0,     0,     0,     0,     0,     0,\n",
       "           0,     0,     0,     0,     0,     0,     0,     0,     0,\n",
       "           0,     0,     0,     0,     0,     0,     0,     0,     0,\n",
       "           0,     0,     0,     0,     0,     0,     0,     0,     0,\n",
       "           0,     0,     0,     0,     0,     0,     0,     0,     0,\n",
       "           0,     0,     0,     0,     0,     0,     0,     0,     0,\n",
       "           0,     0,     0,     0,     0,     0,     0,     0,     0,\n",
       "           0,     0,     0,     0,     0,     0,     0,     0,     0,\n",
       "           0,     0,     0,     0,     0,     0,     0,     0,     0,\n",
       "           0,     0,     0,     0,     0])"
      ]
     },
     "execution_count": 15,
     "metadata": {},
     "output_type": "execute_result"
    }
   ],
   "source": [
    "X_padded[2]"
   ]
  },
  {
   "cell_type": "code",
   "execution_count": 7,
   "metadata": {
    "colab": {
     "base_uri": "https://localhost:8080/"
    },
    "id": "7vh9Cc7VGPQO",
    "outputId": "c8f33a58-3679-47c9-9888-cfe50d100971"
   },
   "outputs": [
    {
     "name": "stdout",
     "output_type": "stream",
     "text": [
      "cuda\n"
     ]
    }
   ],
   "source": [
    "device = torch.device('cuda' if torch.cuda.is_available() else 'cpu')\n",
    "print(device)"
   ]
  },
  {
   "cell_type": "code",
   "execution_count": 16,
   "metadata": {
    "id": "AWy6XTwml4tk"
   },
   "outputs": [],
   "source": [
    "\n",
    "train_dataset = TensorDataset(torch.tensor(X_train, dtype=torch.long), torch.tensor(y_train, dtype=torch.float))\n",
    "val_dataset = TensorDataset(torch.tensor(X_val, dtype=torch.long), torch.tensor(y_val, dtype=torch.float))\n",
    "\n",
    "train_loader = DataLoader(train_dataset, batch_size=32, shuffle=True)\n",
    "val_loader = DataLoader(val_dataset, batch_size=32)"
   ]
  },
  {
   "cell_type": "code",
   "execution_count": 17,
   "metadata": {
    "id": "OdBhb-sWrkdo"
   },
   "outputs": [],
   "source": [
    "vector_dim = nlp.vocab.vectors_length"
   ]
  },
  {
   "cell_type": "code",
   "execution_count": 21,
   "metadata": {
    "colab": {
     "base_uri": "https://localhost:8080/"
    },
    "id": "8cqpDp6frlIx",
    "outputId": "7c205965-7127-44d0-82bb-256d011bf847"
   },
   "outputs": [
    {
     "data": {
      "text/plain": [
       "300"
      ]
     },
     "execution_count": 21,
     "metadata": {},
     "output_type": "execute_result"
    }
   ],
   "source": [
    "vector_dim"
   ]
  },
  {
   "cell_type": "code",
   "execution_count": 9,
   "metadata": {},
   "outputs": [],
   "source": [
    "import copy"
   ]
  },
  {
   "cell_type": "code",
   "execution_count": 18,
   "metadata": {},
   "outputs": [
    {
     "name": "stdout",
     "output_type": "stream",
     "text": [
      "Epoch 1/20\n",
      "Train loss: 0.5610\n",
      "Validation loss: 0.2751\n",
      "Train accuracy: 0.6630\n",
      "Validation accuracy: 0.9027\n",
      "Epoch 2/20\n",
      "Train loss: 0.2286\n",
      "Validation loss: 0.1894\n",
      "Train accuracy: 0.9271\n",
      "Validation accuracy: 0.9465\n",
      "Epoch 3/20\n",
      "Train loss: 0.1764\n",
      "Validation loss: 0.1604\n",
      "Train accuracy: 0.9513\n",
      "Validation accuracy: 0.9574\n",
      "Epoch 4/20\n",
      "Train loss: 0.1541\n",
      "Validation loss: 0.1384\n",
      "Train accuracy: 0.9594\n",
      "Validation accuracy: 0.9645\n",
      "Epoch 5/20\n",
      "Train loss: 0.3131\n",
      "Validation loss: 0.2044\n",
      "Train accuracy: 0.8806\n",
      "Validation accuracy: 0.9375\n",
      "Epoch 6/20\n",
      "Train loss: 0.1701\n",
      "Validation loss: 0.1584\n",
      "Train accuracy: 0.9547\n",
      "Validation accuracy: 0.9566\n",
      "Epoch 7/20\n",
      "Train loss: 0.1457\n",
      "Validation loss: 0.1464\n",
      "Train accuracy: 0.9623\n",
      "Validation accuracy: 0.9611\n",
      "Epoch 8/20\n",
      "Train loss: 0.1360\n",
      "Validation loss: 0.1390\n",
      "Train accuracy: 0.9661\n",
      "Validation accuracy: 0.9633\n",
      "Epoch 9/20\n",
      "Train loss: 0.1871\n",
      "Validation loss: 0.1958\n",
      "Train accuracy: 0.9389\n",
      "Validation accuracy: 0.9355\n",
      "Epoch 10/20\n",
      "Train loss: 0.1534\n",
      "Validation loss: 0.1483\n",
      "Train accuracy: 0.9558\n",
      "Validation accuracy: 0.9586\n",
      "Epoch 11/20\n",
      "Train loss: 0.1345\n",
      "Validation loss: 0.1371\n",
      "Train accuracy: 0.9667\n",
      "Validation accuracy: 0.9635\n",
      "Epoch 12/20\n",
      "Train loss: 0.1264\n",
      "Validation loss: 0.1280\n",
      "Train accuracy: 0.9696\n",
      "Validation accuracy: 0.9673\n",
      "Epoch 13/20\n",
      "Train loss: 0.1186\n",
      "Validation loss: 0.1284\n",
      "Train accuracy: 0.9718\n",
      "Validation accuracy: 0.9674\n",
      "Epoch 14/20\n",
      "Train loss: 0.1345\n",
      "Validation loss: 0.2055\n",
      "Train accuracy: 0.9631\n",
      "Validation accuracy: 0.9291\n",
      "Epoch 15/20\n",
      "Train loss: 0.1373\n",
      "Validation loss: 0.1466\n",
      "Train accuracy: 0.9614\n",
      "Validation accuracy: 0.9581\n",
      "Epoch 16/20\n",
      "Train loss: 0.1380\n",
      "Validation loss: 0.1364\n",
      "Train accuracy: 0.9603\n",
      "Validation accuracy: 0.9622\n",
      "Epoch 17/20\n",
      "Train loss: 0.1132\n",
      "Validation loss: 0.1354\n",
      "Train accuracy: 0.9722\n",
      "Validation accuracy: 0.9661\n",
      "Epoch 18/20\n",
      "Train loss: 0.1755\n",
      "Validation loss: 0.1503\n",
      "Train accuracy: 0.9414\n",
      "Validation accuracy: 0.9551\n",
      "Epoch 19/20\n",
      "Train loss: 0.1226\n",
      "Validation loss: 0.1319\n",
      "Train accuracy: 0.9662\n",
      "Validation accuracy: 0.9636\n",
      "Epoch 20/20\n",
      "Train loss: 0.1270\n",
      "Validation loss: 0.1321\n",
      "Train accuracy: 0.9640\n",
      "Validation accuracy: 0.9626\n"
     ]
    }
   ],
   "source": [
    "class NewsClassifier(nn.Module):\n",
    "    def __init__(self, embedding_layer, vector_dim):\n",
    "        super(NewsClassifier, self).__init__()\n",
    "        self.embedding = embedding_layer\n",
    "        self.lstm = nn.LSTM(vector_dim, 64, bidirectional=True, batch_first=True)\n",
    "        self.fc1 = nn.Linear(128, 16)\n",
    "        self.relu = nn.ReLU()\n",
    "        self.fc2 = nn.Linear(16, 1)\n",
    "        self.sigmoid = nn.Sigmoid()\n",
    "\n",
    "    def forward(self, x):\n",
    "        x = self.embedding(x)\n",
    "        x, _ = self.lstm(x)\n",
    "        x = x[:, -1]\n",
    "        x = self.fc1(x)\n",
    "        x = self.relu(x)\n",
    "        x = self.fc2(x)\n",
    "        x = self.sigmoid(x)\n",
    "        return x\n",
    "\n",
    "device = torch.device(\"cuda\" if torch.cuda.is_available() else \"cpu\")\n",
    "model = NewsClassifier(embedding_layer, vector_dim).to(device)\n",
    "\n",
    "criterion = nn.BCELoss()\n",
    "optimizer = optim.Adam(model.parameters(), lr=0.0001)\n",
    "\n",
    "num_epochs = 20\n",
    "\n",
    "best_loss = float('inf')\n",
    "best_model = None\n",
    "for epoch in range(num_epochs):\n",
    "    model.train()\n",
    "    train_loss = 0\n",
    "    train_acc = 0\n",
    "    for inputs, labels in train_loader:\n",
    "        inputs, labels = inputs.to(device), labels.to(device)\n",
    "        optimizer.zero_grad()\n",
    "\n",
    "        outputs = model(inputs).squeeze()\n",
    "        loss = criterion(outputs, labels)\n",
    "        loss.backward()\n",
    "        optimizer.step()\n",
    "        \n",
    "        train_loss += loss.item()\n",
    "        \n",
    "        preds = (outputs >= 0.5).float()\n",
    "        acc = (preds == labels).float().mean()\n",
    "        train_acc += acc.item()\n",
    "\n",
    "    val_loss = 0\n",
    "    val_acc = 0\n",
    "    model.eval()\n",
    "    with torch.no_grad():\n",
    "        for inputs, labels in val_loader:\n",
    "            inputs, labels = inputs.to(device), labels.to(device)\n",
    "            outputs = model(inputs).squeeze()\n",
    "            loss = criterion(outputs, labels)\n",
    "            val_loss += loss.item()\n",
    "\n",
    "            preds = (outputs >= 0.5).float()\n",
    "            acc = (preds == labels).float().mean()\n",
    "            val_acc += acc.item()\n",
    "    \n",
    "    avg_train_loss = train_loss / len(train_loader)\n",
    "    avg_val_loss = val_loss / len(val_loader)\n",
    "    avg_train_acc = train_acc / len(train_loader)\n",
    "    avg_val_acc = val_acc / len(val_loader)\n",
    "\n",
    "    if avg_train_loss + avg_val_loss < best_loss:\n",
    "        best_loss = avg_train_loss + avg_val_loss\n",
    "        best_model = copy.deepcopy(model)\n",
    "    \n",
    "    print(f\"Epoch {epoch+1}/{num_epochs}\")\n",
    "    print(f\"Train loss: {avg_train_loss:.4f}\")\n",
    "    print(f\"Validation loss: {avg_val_loss:.4f}\")\n",
    "    print(f\"Train accuracy: {avg_train_acc:.4f}\")\n",
    "    print(f\"Validation accuracy: {avg_val_acc:.4f}\")\n"
   ]
  },
  {
   "cell_type": "code",
   "execution_count": 19,
   "metadata": {},
   "outputs": [],
   "source": [
    "torch.save(best_model.state_dict(), r\"C:\\Users\\Acer\\Jupyter sample code python\\fakevsreal\\best_model1.pth\")"
   ]
  },
  {
   "cell_type": "code",
   "execution_count": 7,
   "metadata": {},
   "outputs": [],
   "source": [
    "class NewsClassifier(nn.Module):\n",
    "    def __init__(self, embedding_layer, vector_dim):\n",
    "        super(NewsClassifier, self).__init__()\n",
    "        self.embedding = embedding_layer\n",
    "        self.lstm = nn.LSTM(vector_dim, 64, bidirectional=True, batch_first=True)\n",
    "        self.fc1 = nn.Linear(128, 16)\n",
    "        self.relu = nn.ReLU()\n",
    "        self.fc2 = nn.Linear(16, 1)\n",
    "        self.sigmoid = nn.Sigmoid()\n",
    "\n",
    "    def forward(self, x):\n",
    "        x = self.embedding(x)\n",
    "        x, _ = self.lstm(x)\n",
    "        x = x[:, -1]\n",
    "        x = self.fc1(x)\n",
    "        x = self.relu(x)\n",
    "        x = self.fc2(x)\n",
    "        x = self.sigmoid(x)\n",
    "        return x\n",
    "\n",
    "device = torch.device(\"cuda\" if torch.cuda.is_available() else \"cpu\")\n",
    "model = NewsClassifier(embedding_layer, vector_dim).to(device)"
   ]
  },
  {
   "cell_type": "code",
   "execution_count": 8,
   "metadata": {},
   "outputs": [
    {
     "data": {
      "text/plain": [
       "NewsClassifier(\n",
       "  (embedding): Embedding(147709, 300)\n",
       "  (lstm): LSTM(300, 64, batch_first=True, bidirectional=True)\n",
       "  (fc1): Linear(in_features=128, out_features=16, bias=True)\n",
       "  (relu): ReLU()\n",
       "  (fc2): Linear(in_features=16, out_features=1, bias=True)\n",
       "  (sigmoid): Sigmoid()\n",
       ")"
      ]
     },
     "execution_count": 8,
     "metadata": {},
     "output_type": "execute_result"
    }
   ],
   "source": [
    "model_path = r\"C:\\Users\\Acer\\Jupyter sample code python\\fakevsreal\\best_model1.pth\"\n",
    "saved_model = NewsClassifier(embedding_layer, vector_dim).to(device)\n",
    "saved_model.load_state_dict(torch.load(model_path))\n",
    "saved_model.eval()\n",
    "saved_model.to(device)"
   ]
  },
  {
   "cell_type": "code",
   "execution_count": 9,
   "metadata": {
    "id": "Q0F0-wyT3jFy"
   },
   "outputs": [],
   "source": [
    "X_train, X_temp, y_train, y_temp = train_test_split(X_padded, np.array(y), test_size=0.3)\n",
    "X_val, X_test, y_val, y_test = train_test_split(X_temp, y_temp, test_size=0.33)"
   ]
  },
  {
   "cell_type": "code",
   "execution_count": 10,
   "metadata": {
    "colab": {
     "base_uri": "https://localhost:8080/"
    },
    "id": "ug5WpD4j2Fcz",
    "outputId": "f832ccbf-a4aa-4ae5-8be4-84f1db83370e"
   },
   "outputs": [],
   "source": [
    "def predict_single_instance(model, x):\n",
    "    model.eval()\n",
    "    with torch.no_grad():\n",
    "        x = torch.tensor(x, dtype=torch.long).unsqueeze(0).to(next(model.parameters()).device)\n",
    "        output = model(x).squeeze()\n",
    "        prediction = (output >= 0.5).float().item()\n",
    "    return prediction\n",
    "\n",
    "\n",
    "\n",
    "def sequence_to_text(sequence):\n",
    "    index_to_word = {v: k for k, v in tokenizer.word_index.items()}\n",
    "    text = \" \".join([index_to_word.get(idx, \"\") for idx in sequence if idx != 0])\n",
    "    return text\n",
    "\n",
    "X_text = df_all[\"title\"] + \" \" + df_all[\"text\"]\n",
    "y_text = df_all.Label\n",
    "\n",
    "X_train_text, X_temp_text, y_train_text, y_temp_text = train_test_split(X_text, np.array(y_text), test_size=0.3)\n",
    "X_val_text, X_test_text, y_val_text, y_test_text = train_test_split(X_temp_text, y_temp_text, test_size=0.33)\n",
    "\n"
   ]
  },
  {
   "cell_type": "code",
   "execution_count": 17,
   "metadata": {},
   "outputs": [
    {
     "name": "stdout",
     "output_type": "stream",
     "text": [
      "Text for instance 9:\n",
      " George Zimmerman Launches Despicable Attack On Trayvon Martin’s Parents In the wake of his failed efforts to sell the gun he used to murder Trayvon Martin, racist George Zimmerman talked to the Daily Beast and said some pretty horrendous things about the slain teen s parents. They didn t raise their son right,  Zimmerman said.  He attacked a complete stranger and attempted to kill him. Zimmerman pursued and initiated an encounter with the unarmed 17-year-old on February 26, 2012 as Martin was crossing through the gated Sanford, Florida community on his way home to his father s house.Despite being told not to pursue Martin, Zimmerman wanted to play cop and did so anyway despite having no reason to do so. He shot and killed Martin with a Kel-Tec PF-9 9mm semi-automatic pistol and claimed self defense and got away with the murder because of Florida s controversial Stand Your Ground law.Zimmerman has been in and out of trouble with the law ever since, and has avoided punishment each time.Further, in a scheme to make money and use the profits to allegedly fight the Black Lives Matter movement, Zimmerman set up an auction seeking buyers for the gun he used to take Trayvon Martin away from his parents forever, parents whom Zimmerman continued to attack during the interview. Sybrina Fulton and Tracy Martin did everything they could to capitalize on her son s death,  Zimmerman despicably claimed.  She was never a mother figure to him. Tracy Martin couldn t have cared less about their son. He treated him like a dog without a leash. Zimmerman should have stopped talking at that point but he continued to give Martin s parents advice even though he doesn t have any children of his own. Sure, I m sorry for any parent that has lost a child. That being said, I also believe it s their duty to have an internal dialogue to see what they should have done better and what they should have done appropriately. If he succeeds in selling the infamous firearm, Zimmerman claims he will use the money to fight Black Lives Matter, get revenge on the prosecutor who prosecuted him during his murder trial, and fight against Hillary Clinton. The purchaser is guaranteed validity and authenticity of the firearm. A portion of the proceeds will be used to: fight BLM violence against Law Enforcement officers, ensure the demise of Angela Corey s persecution career and Hillary Clinton s anti-firearm rhetoric. It s not the first time Zimmerman has tried to make money off the murder of Trayvon Martin. He once sold a painting of an American flag for $100,000 on eBay, and conservatives donated thousands of dollars to Zimmerman to help pay his legal expenses.Clearly, this monster has no intention of staying in the shadows of society where he belongs.Featured image via ABC/Wikipedia \n",
      "\n",
      "Prediction:\n",
      "Real news\n",
      "\n",
      "True label:\n",
      "Real news\n"
     ]
    }
   ],
   "source": [
    "instance_index = 9  \n",
    "x_instance = X_test[instance_index]\n",
    "prediction = predict_single_instance(saved_model, x_instance)\n",
    "true_label = y_test[instance_index]\n",
    "\n",
    "test_index = X_test_text.index[instance_index]\n",
    "original_text = df_all.loc[test_index, \"title\"] + \" \" + df_all.loc[test_index, \"text\"]\n",
    "\n",
    "print(f\"Text for instance {instance_index}:\")\n",
    "print(original_text)\n",
    "print(\"\\nPrediction:\")\n",
    "print(\"Real news\" if prediction == 1.0 else \"Fake news\")\n",
    "print(\"\\nTrue label:\")\n",
    "print(\"Real news\" if true_label == 1 else \"Fake news\")\n"
   ]
  },
  {
   "cell_type": "code",
   "execution_count": null,
   "metadata": {
    "id": "8N0Kvzsz1CVU"
   },
   "outputs": [],
   "source": []
  }
 ],
 "metadata": {
  "colab": {
   "provenance": []
  },
  "gpuClass": "standard",
  "kernelspec": {
   "display_name": "Python 3 (ipykernel)",
   "language": "python",
   "name": "python3"
  },
  "language_info": {
   "codemirror_mode": {
    "name": "ipython",
    "version": 3
   },
   "file_extension": ".py",
   "mimetype": "text/x-python",
   "name": "python",
   "nbconvert_exporter": "python",
   "pygments_lexer": "ipython3",
   "version": "3.10.6"
  }
 },
 "nbformat": 4,
 "nbformat_minor": 1
}
